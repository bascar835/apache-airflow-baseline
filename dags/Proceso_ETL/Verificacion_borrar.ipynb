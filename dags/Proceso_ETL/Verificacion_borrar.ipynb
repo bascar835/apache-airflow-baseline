{
 "cells": [
  {
   "cell_type": "code",
   "execution_count": 2,
   "metadata": {},
   "outputs": [
    {
     "data": {
      "text/html": [
       "<div>\n",
       "<style scoped>\n",
       "    .dataframe tbody tr th:only-of-type {\n",
       "        vertical-align: middle;\n",
       "    }\n",
       "\n",
       "    .dataframe tbody tr th {\n",
       "        vertical-align: top;\n",
       "    }\n",
       "\n",
       "    .dataframe thead th {\n",
       "        text-align: right;\n",
       "    }\n",
       "</style>\n",
       "<table border=\"1\" class=\"dataframe\">\n",
       "  <thead>\n",
       "    <tr style=\"text-align: right;\">\n",
       "      <th></th>\n",
       "      <th>Country</th>\n",
       "      <th>average_electricity</th>\n",
       "      <th>mean_pib</th>\n",
       "      <th>mean_pib_per_capita</th>\n",
       "      <th>average_emissions</th>\n",
       "    </tr>\n",
       "  </thead>\n",
       "  <tbody>\n",
       "    <tr>\n",
       "      <th>0</th>\n",
       "      <td>Australia</td>\n",
       "      <td>9.504760</td>\n",
       "      <td>7.598003e+08</td>\n",
       "      <td>37983.384735</td>\n",
       "      <td>182187.274191</td>\n",
       "    </tr>\n",
       "    <tr>\n",
       "      <th>1</th>\n",
       "      <td>Austria</td>\n",
       "      <td>69.343981</td>\n",
       "      <td>2.882474e+08</td>\n",
       "      <td>35150.003724</td>\n",
       "      <td>28140.834610</td>\n",
       "    </tr>\n",
       "    <tr>\n",
       "      <th>2</th>\n",
       "      <td>Belgium</td>\n",
       "      <td>3.891129</td>\n",
       "      <td>3.542969e+08</td>\n",
       "      <td>33758.132857</td>\n",
       "      <td>51824.463082</td>\n",
       "    </tr>\n",
       "    <tr>\n",
       "      <th>3</th>\n",
       "      <td>Bulgaria</td>\n",
       "      <td>7.778136</td>\n",
       "      <td>8.469902e+07</td>\n",
       "      <td>10915.984951</td>\n",
       "      <td>21622.049086</td>\n",
       "    </tr>\n",
       "    <tr>\n",
       "      <th>4</th>\n",
       "      <td>Belarus</td>\n",
       "      <td>0.203957</td>\n",
       "      <td>1.198782e+08</td>\n",
       "      <td>12141.116120</td>\n",
       "      <td>47145.084054</td>\n",
       "    </tr>\n",
       "  </tbody>\n",
       "</table>\n",
       "</div>"
      ],
      "text/plain": [
       "     Country  average_electricity      mean_pib  mean_pib_per_capita  \\\n",
       "0  Australia             9.504760  7.598003e+08         37983.384735   \n",
       "1    Austria            69.343981  2.882474e+08         35150.003724   \n",
       "2    Belgium             3.891129  3.542969e+08         33758.132857   \n",
       "3   Bulgaria             7.778136  8.469902e+07         10915.984951   \n",
       "4    Belarus             0.203957  1.198782e+08         12141.116120   \n",
       "\n",
       "   average_emissions  \n",
       "0      182187.274191  \n",
       "1       28140.834610  \n",
       "2       51824.463082  \n",
       "3       21622.049086  \n",
       "4       47145.084054  "
      ]
     },
     "execution_count": 2,
     "metadata": {},
     "output_type": "execute_result"
    }
   ],
   "source": [
    "import sqlite3\n",
    "import pandas as pd\n",
    "\n",
    "# Conectar a la base de datos SQLite\n",
    "conn = sqlite3.connect('output/database.sqlite')\n",
    "query = \"SELECT * FROM etl_results\"\n",
    "\n",
    "# Leer la tabla en un DataFrame de pandas\n",
    "df = pd.read_sql(query, conn)\n",
    "\n",
    "# Mostrar las primeras filas\n",
    "df.head()\n"
   ]
  },
  {
   "cell_type": "code",
   "execution_count": null,
   "metadata": {},
   "outputs": [],
   "source": []
  }
 ],
 "metadata": {
  "kernelspec": {
   "display_name": "mi_entorno",
   "language": "python",
   "name": "python3"
  },
  "language_info": {
   "codemirror_mode": {
    "name": "ipython",
    "version": 3
   },
   "file_extension": ".py",
   "mimetype": "text/x-python",
   "name": "python",
   "nbconvert_exporter": "python",
   "pygments_lexer": "ipython3",
   "version": "3.10.8"
  }
 },
 "nbformat": 4,
 "nbformat_minor": 2
}
